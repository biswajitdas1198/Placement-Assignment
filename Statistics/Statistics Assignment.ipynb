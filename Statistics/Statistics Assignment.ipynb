{
 "cells": [
  {
   "attachments": {},
   "cell_type": "markdown",
   "metadata": {},
   "source": [
    "### Q-1. A university wants to understand the relationship between the SAT scores of its applicants and their college GPA. They collect data on 500 students, including their SAT scores (out of 1600) and their college GPA (on a 4.0 scale). They find that the correlation coefficient between SAT scores and college GPA is 0.7. What does this correlation coefficient indicate about the relationship between SAT scores and college GPA?"
   ]
  },
  {
   "attachments": {},
   "cell_type": "markdown",
   "metadata": {},
   "source": [
    "A correlation coefficient of 0.7 between SAT scores and college GPA indicates a strong positive correlation between these two variables.\n",
    "\n",
    "Here's how we can interpret this correlation coefficient:\n",
    "\n",
    "Magnitude: The correlation coefficient ranges from -1 to 1, where 0 indicates no correlation, -1 indicates a perfect negative correlation, and 1 indicates a perfect positive correlation. In this case, the correlation coefficient of 0.7 suggests a relatively strong positive relationship.\n",
    "\n",
    "Direction: A positive correlation means that as the SAT scores increase, the college GPA tends to increase as well. This implies that students who perform well on the SAT are more likely to have higher GPAs in college.\n",
    "\n",
    "Strength: The correlation coefficient of 0.7 indicates a relatively strong relationship. It suggests that the SAT scores explain about 49% (0.7^2) of the variability in college GPA among the students in the dataset.\n",
    "\n",
    "Note of Caution: While a correlation coefficient of 0.7 indicates a strong positive correlation, it does not necessarily imply a causal relationship. Correlation measures the strength and direction of the linear relationship between two variables but does not provide information about cause and effect. Other factors or variables not included in the analysis may also influence college GPA.\n",
    "\n",
    "In summary, a correlation coefficient of 0.7 suggests a strong positive relationship between SAT scores and college GPA, indicating that higher SAT scores tend to be associated with higher college GPAs among the students in the dataset."
   ]
  },
  {
   "attachments": {},
   "cell_type": "markdown",
   "metadata": {},
   "source": [
    "### Q-2. Consider a dataset containing the heights (in centimeters) of 1000 individuals. The mean height is 170 cm with a standard deviation of 10 cm. The dataset is approximately normally distributed, and its skewness is approximately zero. Based on this information, answer the following questions:\n",
    "\n",
    "    a. What percentage of individuals in the dataset have heights between 160 cm\n",
    "    and 180 cm?\n",
    "    b. If we randomly select 100 individuals from the dataset, what is the probability\n",
    "    that their average height is greater than 175 cm?\n",
    "    c. Assuming the dataset follows a normal distribution, what is the z-score\n",
    "    corresponding to a height of 185 cm?\n",
    "    d. We know that 5% of the dataset has heights below a certain value. What is\n",
    "    the approximate height corresponding to this threshold?\n",
    "    e. Calculate the coefficient of variation (CV) for the dataset.\n",
    "    f. Calculate the skewness of the dataset and interpret the result."
   ]
  },
  {
   "attachments": {},
   "cell_type": "markdown",
   "metadata": {},
   "source": [
    "a. To find the percentage of individuals in the dataset with heights between 160 cm and 180 cm, we can use the properties of the normal distribution. Since the dataset is approximately normally distributed, we can calculate this percentage using the cumulative distribution function (CDF).\n",
    "\n",
    "The CDF gives us the probability that a random variable (in this case, height) is less than or equal to a given value. We can subtract the CDF values corresponding to 160 cm and 180 cm to find the percentage of individuals with heights between 160 cm and 180 cm.\n",
    "\n",
    "Using the z-score formula:\n",
    "z = (x - μ) / σ\n",
    "\n",
    "where x is the value (height), μ is the mean, and σ is the standard deviation.\n",
    "\n",
    "We can calculate the z-scores for 160 cm and 180 cm and use them to find the corresponding CDF values."
   ]
  },
  {
   "cell_type": "code",
   "execution_count": 3,
   "metadata": {},
   "outputs": [
    {
     "name": "stdout",
     "output_type": "stream",
     "text": [
      "Percentage of individuals with heights between 160 cm and 180 cm: 68.26894921370858\n"
     ]
    }
   ],
   "source": [
    "import scipy.stats as stats\n",
    "\n",
    "mean = 170\n",
    "std_dev = 10\n",
    "\n",
    "# Calculate z-scores for 160 cm and 180 cm\n",
    "z_160 = (160 - mean) / std_dev\n",
    "z_180 = (180 - mean) / std_dev\n",
    "\n",
    "# Find the percentage using the CDF\n",
    "percentage = (stats.norm.cdf(z_180) - stats.norm.cdf(z_160)) * 100\n",
    "\n",
    "print(\"Percentage of individuals with heights between 160 cm and 180 cm:\", percentage)\n"
   ]
  },
  {
   "attachments": {},
   "cell_type": "markdown",
   "metadata": {},
   "source": [
    "b. To calculate the probability that the average height of 100 randomly selected individuals is greater than 175 cm, we need to use the Central Limit Theorem. According to the Central Limit Theorem, the distribution of sample means approaches a normal distribution as the sample size increases.\n",
    "\n",
    "Since the dataset is approximately normally distributed and we are sampling 100 individuals, we can use the properties of the normal distribution to calculate this probability.\n",
    "\n",
    "The mean of the sample means will be the same as the population mean, which is 170 cm. The standard deviation of the sample means (also known as the standard error) can be calculated by dividing the population standard deviation by the square root of the sample size (10 / sqrt(100))."
   ]
  },
  {
   "cell_type": "code",
   "execution_count": 4,
   "metadata": {},
   "outputs": [
    {
     "name": "stdout",
     "output_type": "stream",
     "text": [
      "Probability that the average height of 100 individuals is greater than 175 cm: 2.866515719235352e-07\n"
     ]
    }
   ],
   "source": [
    "import math\n",
    "\n",
    "sample_size = 100\n",
    "sample_mean = mean\n",
    "sample_std_dev = std_dev / math.sqrt(sample_size)\n",
    "\n",
    "# Calculate z-score for 175 cm\n",
    "z_score = (175 - sample_mean) / sample_std_dev\n",
    "\n",
    "# Find the probability using the CDF\n",
    "probability = 1 - stats.norm.cdf(z_score)\n",
    "\n",
    "print(\"Probability that the average height of 100 individuals is greater than 175 cm:\", probability)\n"
   ]
  },
  {
   "attachments": {},
   "cell_type": "markdown",
   "metadata": {},
   "source": [
    "c. To calculate the z-score corresponding to a height of 185 cm, we can use the same formula as before."
   ]
  },
  {
   "cell_type": "code",
   "execution_count": 5,
   "metadata": {},
   "outputs": [
    {
     "name": "stdout",
     "output_type": "stream",
     "text": [
      "The z-score corresponding to a height of 185 cm: 1.5\n"
     ]
    }
   ],
   "source": [
    "height = 185\n",
    "\n",
    "# Calculate z-score for 185 cm\n",
    "z_score = (height - mean) / std_dev\n",
    "\n",
    "print(\"The z-score corresponding to a height of 185 cm:\", z_score)\n"
   ]
  },
  {
   "attachments": {},
   "cell_type": "markdown",
   "metadata": {},
   "source": [
    "d. To find the approximate height corresponding to the threshold of 5% of the dataset having heights below a certain value, we can use the inverse of the CDF.\n",
    "\n",
    "Since we want to find the height below which 5% of the dataset falls, we need to find the value corresponding to a CDF of 0.05."
   ]
  },
  {
   "cell_type": "code",
   "execution_count": 6,
   "metadata": {},
   "outputs": [
    {
     "name": "stdout",
     "output_type": "stream",
     "text": [
      "The approximate height corresponding to the threshold of 5%: 153.55146373048527\n"
     ]
    }
   ],
   "source": [
    "threshold_cdf = 0.05\n",
    "\n",
    "# Find the value using the inverse CDF (percent point function)\n",
    "threshold_height = stats.norm.ppf(threshold_cdf, loc=mean, scale=std_dev)\n",
    "\n",
    "print(\"The approximate height corresponding to the threshold of 5%:\", threshold_height)\n"
   ]
  },
  {
   "attachments": {},
   "cell_type": "markdown",
   "metadata": {},
   "source": [
    "e. The coefficient of variation (CV) is a measure of relative variability and is calculated as the ratio of the standard deviation to the mean,"
   ]
  },
  {
   "attachments": {},
   "cell_type": "markdown",
   "metadata": {},
   "source": [
    "## Q-3. Consider the ‘Blood Pressure Before’ and ‘Blood Pressure After’ columns from the data and calculate the following\n",
    "\n",
    "https://drive.google.com/file/d/1mCjtYHiX--mMUjicuaP2gH3k-SnFxt8Y/view?usp=share_\n",
    "\n",
    "    a. Measure the dispersion in both and interpret the results.\n",
    "    b. Calculate mean and 5% confidence interval and plot it in a graph\n",
    "    c. Calculate the Mean absolute deviation and Standard deviation and interpret\n",
    "    the results.\n",
    "    d. Calculate the correlation coefficient and check the significance of it at 1% level\n",
    "    of significance."
   ]
  },
  {
   "cell_type": "code",
   "execution_count": 8,
   "metadata": {},
   "outputs": [
    {
     "name": "stdout",
     "output_type": "stream",
     "text": [
      "Requirement already satisfied: pandas in d:\\programes\\anaconda\\lib\\site-packages (1.4.4)\n",
      "Requirement already satisfied: numpy in d:\\programes\\anaconda\\lib\\site-packages (1.21.5)\n",
      "Requirement already satisfied: scipy in d:\\programes\\anaconda\\lib\\site-packages (1.9.1)\n",
      "Requirement already satisfied: matplotlib in d:\\programes\\anaconda\\lib\\site-packages (3.5.2)\n",
      "Requirement already satisfied: python-dateutil>=2.8.1 in d:\\programes\\anaconda\\lib\\site-packages (from pandas) (2.8.2)\n",
      "Requirement already satisfied: pytz>=2020.1 in d:\\programes\\anaconda\\lib\\site-packages (from pandas) (2022.1)\n",
      "Requirement already satisfied: cycler>=0.10 in d:\\programes\\anaconda\\lib\\site-packages (from matplotlib) (0.11.0)\n",
      "Requirement already satisfied: pyparsing>=2.2.1 in d:\\programes\\anaconda\\lib\\site-packages (from matplotlib) (3.0.9)\n",
      "Requirement already satisfied: pillow>=6.2.0 in d:\\programes\\anaconda\\lib\\site-packages (from matplotlib) (9.2.0)\n",
      "Requirement already satisfied: fonttools>=4.22.0 in d:\\programes\\anaconda\\lib\\site-packages (from matplotlib) (4.25.0)\n",
      "Requirement already satisfied: packaging>=20.0 in d:\\programes\\anaconda\\lib\\site-packages (from matplotlib) (21.3)\n",
      "Requirement already satisfied: kiwisolver>=1.0.1 in d:\\programes\\anaconda\\lib\\site-packages (from matplotlib) (1.4.2)\n",
      "Requirement already satisfied: six>=1.5 in d:\\programes\\anaconda\\lib\\site-packages (from python-dateutil>=2.8.1->pandas) (1.16.0)\n",
      "Note: you may need to restart the kernel to use updated packages.\n"
     ]
    }
   ],
   "source": [
    "pip install pandas numpy scipy matplotlib\n"
   ]
  },
  {
   "cell_type": "code",
   "execution_count": 2,
   "metadata": {},
   "outputs": [
    {
     "name": "stdout",
     "output_type": "stream",
     "text": [
      "Index(['Patient ID', ' Blood Pressure Before (mmHg)',\n",
      "       ' Blood Pressure After (mmHg)'],\n",
      "      dtype='object')\n",
      "Dispersion measures for  Blood Pressure Before (mmHg) :\n",
      "{'Range': 28, 'Variance': 43.10189999999998, 'Standard Deviation': 6.5652037287505385}\n",
      "Dispersion measures for  Blood Pressure After (mmHg) :\n",
      "{'Range': 23, 'Variance': 46.97040000000002, 'Standard Deviation': 6.853495458523338}\n",
      "Mean and 5% confidence interval for  Blood Pressure Before (mmHg) :\n",
      "Mean: 133.91\n",
      "Confidence Interval: (132.61676127359584, 135.20323872640415)\n",
      "Mean and 5% confidence interval for  Blood Pressure After (mmHg) :\n",
      "Mean: 128.36\n",
      "Confidence Interval: (127.00997247543387, 129.71002752456616)\n"
     ]
    },
    {
     "data": {
      "image/png": "[encoded data removed]",
      "text/plain": [
       "<Figure size 640x480 with 1 Axes>"
      ]
     },
     "metadata": {},
     "output_type": "display_data"
    },
    {
     "name": "stdout",
     "output_type": "stream",
     "text": [
      "Mean Absolute Deviation (MAD) for  Blood Pressure Before (mmHg) : 5.7118\n",
      "Mean Absolute Deviation (MAD) for  Blood Pressure After (mmHg) : 5.9\n",
      "Standard Deviation (SD) for  Blood Pressure Before (mmHg) : 6.5652037287505385\n",
      "Standard Deviation (SD) for  Blood Pressure After (mmHg) : 6.853495458523338\n",
      "Correlation Coefficient: 0.9779485966556019\n",
      "p-value: 1.8097381433068541e-68\n",
      "The correlation is significant at the 1% level of significance.\n"
     ]
    }
   ],
   "source": [
    "import pandas as pd\n",
    "import numpy as np\n",
    "from scipy import stats\n",
    "import matplotlib.pyplot as plt\n",
    "\n",
    "# Load the dataset\n",
    "data = pd.read_csv('BloodPressure.csv')\n",
    "\n",
    "# Check the column names in the dataset\n",
    "print(data.columns)\n",
    "\n",
    "# Update the column names with leading spaces\n",
    "before_column = ' Blood Pressure Before (mmHg)'\n",
    "after_column = ' Blood Pressure After (mmHg)'\n",
    "\n",
    "# Measure dispersion\n",
    "before_dispersion = {\n",
    "    'Range': np.ptp(data[before_column]),\n",
    "    'Variance': np.var(data[before_column]),\n",
    "    'Standard Deviation': np.std(data[before_column])\n",
    "}\n",
    "\n",
    "after_dispersion = {\n",
    "    'Range': np.ptp(data[after_column]),\n",
    "    'Variance': np.var(data[after_column]),\n",
    "    'Standard Deviation': np.std(data[after_column])\n",
    "}\n",
    "\n",
    "print('Dispersion measures for', before_column, ':')\n",
    "print(before_dispersion)\n",
    "print('Dispersion measures for', after_column, ':')\n",
    "print(after_dispersion)\n",
    "\n",
    "# Calculate mean and confidence interval\n",
    "before_mean = np.mean(data[before_column])\n",
    "before_ci = stats.norm.interval(0.95, loc=before_mean, scale=stats.sem(data[before_column]))\n",
    "\n",
    "after_mean = np.mean(data[after_column])\n",
    "after_ci = stats.norm.interval(0.95, loc=after_mean, scale=stats.sem(data[after_column]))\n",
    "\n",
    "print('Mean and 5% confidence interval for', before_column, ':')\n",
    "print('Mean:', before_mean)\n",
    "print('Confidence Interval:', before_ci)\n",
    "print('Mean and 5% confidence interval for', after_column, ':')\n",
    "print('Mean:', after_mean)\n",
    "print('Confidence Interval:', after_ci)\n",
    "\n",
    "# Plot the means and confidence intervals\n",
    "plt.bar(['Before', 'After'], [before_mean, after_mean], yerr=[before_ci[1] - before_mean, after_ci[1] - after_mean])\n",
    "plt.xlabel('Blood Pressure')\n",
    "plt.ylabel('Mean')\n",
    "plt.title('Mean and 5% Confidence Interval of Blood Pressure')\n",
    "plt.show()\n",
    "\n",
    "# Calculate Mean Absolute Deviation (MAD) and Standard Deviation (SD)\n",
    "before_mad = np.mean(np.abs(data[before_column] - before_mean))\n",
    "after_mad = np.mean(np.abs(data[after_column] - after_mean))\n",
    "\n",
    "before_sd = np.std(data[before_column])\n",
    "after_sd = np.std(data[after_column])\n",
    "\n",
    "print('Mean Absolute Deviation (MAD) for', before_column, ':', before_mad)\n",
    "print('Mean Absolute Deviation (MAD) for', after_column, ':', after_mad)\n",
    "print('Standard Deviation (SD) for', before_column, ':', before_sd)\n",
    "print('Standard Deviation (SD) for', after_column, ':', after_sd)\n",
    "\n",
    "# Calculate correlation coefficient and significance\n",
    "correlation_coefficient, p_value = stats.pearsonr(data[before_column], data[after_column])\n",
    "\n",
    "print('Correlation Coefficient:', correlation_coefficient)\n",
    "print('p-value:', p_value)\n",
    "\n",
    "if p_value < 0.01:\n",
    "    print('The correlation is significant at the 1% level of significance.')\n",
    "else:\n",
    "    print('The correlation is not significant at the 1% level of significance.')\n"
   ]
  },
  {
   "attachments": {},
   "cell_type": "markdown",
   "metadata": {},
   "source": [
    "### Q-4. A group of 20 friends decide to play a game in which they each write a number between 1 and 20 on a slip of paper and put it into a hat. They then draw one slip of paper at random. What is the probability that the number on the slip of paper is a perfect square (i.e., 1, 4, 9, or 16)?"
   ]
  },
  {
   "attachments": {},
   "cell_type": "markdown",
   "metadata": {},
   "source": [
    "To calculate the probability that the number drawn from the hat is a perfect square (1, 4, 9, or 16), we need to determine the total number of possible outcomes and the number of favorable outcomes.\n",
    "\n",
    "Total number of possible outcomes:\n",
    "Since each friend writes a number between 1 and 20, there are 20 possible numbers that could be drawn.\n",
    "\n",
    "Number of favorable outcomes:\n",
    "Out of the numbers 1 to 20, there are four perfect squares (1, 4, 9, and 16) that are considered favorable outcomes.\n",
    "\n",
    "Now, we can calculate the probability using the formula:\n",
    "\n",
    "Probability = Number of favorable outcomes / Total number of possible outcomes"
   ]
  },
  {
   "cell_type": "code",
   "execution_count": 7,
   "metadata": {},
   "outputs": [
    {
     "name": "stdout",
     "output_type": "stream",
     "text": [
      "The probability of drawing a perfect square number is: 0.2\n"
     ]
    }
   ],
   "source": [
    "total_outcomes = 20\n",
    "favorable_outcomes = 4\n",
    "\n",
    "probability = favorable_outcomes / total_outcomes\n",
    "\n",
    "print(\"The probability of drawing a perfect square number is:\", probability)\n"
   ]
  },
  {
   "attachments": {},
   "cell_type": "markdown",
   "metadata": {},
   "source": [
    "Therefore, the probability that the number drawn from the hat is a perfect square (1, 4, 9, or 16) is 0.2 or 20%."
   ]
  },
  {
   "attachments": {},
   "cell_type": "markdown",
   "metadata": {},
   "source": [
    "### Q-5. A certain city has two taxi companies: Company A has 80% of the taxis and Company B has 20% of the taxis. Company A's taxis have a 95% success rate for picking up passengers on time, while Company B's taxis have a 90% success rate. If a randomly selected taxi is late, what is the probability that it belongs to Company A?"
   ]
  },
  {
   "attachments": {},
   "cell_type": "markdown",
   "metadata": {},
   "source": [
    "To calculate the probability that a randomly selected taxi, which is late, belongs to Company A, we can use Bayes' theorem. Bayes' theorem allows us to update the probability of an event based on additional information.\n",
    "\n",
    "Let's define the following probabilities:\n",
    "\n",
    "P(A): Probability of selecting a taxi from Company A (prior probability)\n",
    "P(B): Probability of selecting a taxi from Company B (prior probability)\n",
    "P(L|A): Probability that a taxi is late given that it belongs to Company A (likelihood)\n",
    "P(L|B): Probability that a taxi is late given that it belongs to Company B (likelihood)\n",
    "Given the problem's information, we have:\n",
    "P(A) = 0.8 (Company A has 80% of the taxis)\n",
    "P(B) = 0.2 (Company B has 20% of the taxis)\n",
    "P(L|A) = 0.05 (Company A's taxis have a 95% success rate, so the probability of being late is 1 - 0.95 = 0.05)\n",
    "P(L|B) = 0.1 (Company B's taxis have a 90% success rate, so the probability of being late is 1 - 0.9 = 0.1)\n",
    "\n",
    "Now, we can apply Bayes' theorem:\n",
    "\n",
    "P(A|L) = (P(A) * P(L|A)) / (P(A) * P(L|A) + P(B) * P(L|B))"
   ]
  },
  {
   "cell_type": "code",
   "execution_count": 8,
   "metadata": {},
   "outputs": [
    {
     "name": "stdout",
     "output_type": "stream",
     "text": [
      "The probability that a randomly selected late taxi belongs to Company A is: 0.6666666666666666\n"
     ]
    }
   ],
   "source": [
    "P_A = 0.8\n",
    "P_B = 0.2\n",
    "P_L_A = 0.05\n",
    "P_L_B = 0.1\n",
    "\n",
    "P_A_L = (P_A * P_L_A) / (P_A * P_L_A + P_B * P_L_B)\n",
    "\n",
    "print(\"The probability that a randomly selected late taxi belongs to Company A is:\", P_A_L)\n"
   ]
  },
  {
   "attachments": {},
   "cell_type": "markdown",
   "metadata": {},
   "source": [
    "Therefore, the probability that a randomly selected taxi, which is late, belongs to Company A is approximately 0.3333 or 33.33%."
   ]
  },
  {
   "attachments": {},
   "cell_type": "markdown",
   "metadata": {},
   "source": [
    "### Q-6. A pharmaceutical company is developing a drug that is supposed to reduce blood pressure. They conduct a clinical trial with 100 patients and record their blood pressure before and after taking the drug. The company wants to know if the change in blood pressure follows a normal distribution.\n",
    "\n",
    "https://drive.google.com/file/d/1mCjtYHiX--mMUjicuaP2gH3k-SnFxt8Y/view?usp=share_"
   ]
  },
  {
   "cell_type": "code",
   "execution_count": 11,
   "metadata": {},
   "outputs": [],
   "source": [
    "import pandas as pd\n",
    "\n",
    "data = pd.read_csv('clinical_trial_data.csv')\n",
    "change_in_bp = data[' Blood Pressure After (mmHg)'] - data[' Blood Pressure Before (mmHg)']\n"
   ]
  },
  {
   "cell_type": "code",
   "execution_count": 12,
   "metadata": {},
   "outputs": [],
   "source": [
    "from scipy.stats import shapiro"
   ]
  },
  {
   "cell_type": "code",
   "execution_count": 13,
   "metadata": {},
   "outputs": [
    {
     "name": "stdout",
     "output_type": "stream",
     "text": [
      "Shapiro-Wilk test p-value: 0.0014939684187993407\n"
     ]
    }
   ],
   "source": [
    "stat, p_value = shapiro(change_in_bp)\n",
    "\n",
    "print(\"Shapiro-Wilk test p-value:\", p_value)\n"
   ]
  },
  {
   "attachments": {},
   "cell_type": "markdown",
   "metadata": {},
   "source": [
    "Interpret the result:\n",
    "If the p-value is greater than the chosen significance level (e.g., 0.05), we can conclude that the change in blood pressure data follows a normal distribution. If the p-value is less than the significance level, we reject the null hypothesis and conclude that the data does not follow a normal distribution."
   ]
  },
  {
   "attachments": {},
   "cell_type": "markdown",
   "metadata": {},
   "source": [
    "### Q-7. The equations of two lines of regression, obtained in a correlation analysis between variables X and Y are as follows: 2X + 3Y − 8 = 0  and . 2Y + X − 5 = 0 The variance of X = 4 Find the\n",
    "\n",
    "    a. Variance of Y\n",
    "    b. Coefficient of determination of C and Y\n",
    "    c. Standard error of estimate of X on Y and of Y on X."
   ]
  },
  {
   "attachments": {},
   "cell_type": "markdown",
   "metadata": {},
   "source": [
    "To calculate the variance of Y, coefficient of determination, and standard errors of estimate, we can use the given regression equations and the variance of X. Let's proceed with the calculations:\n",
    "\n",
    "Given regression equations:\n",
    "\n",
    "2X + 3Y - 8 = 0\n",
    "2Y + X - 5 = 0\n",
    "a. Variance of Y:\n",
    "Since we are given the variance of X, we can use the regression equation to calculate the variance of Y. The regression equation can be rearranged to solve for Y:\n",
    "\n",
    "2Y = 8 - 2X\n",
    "Y = (8 - 2X) / 2\n",
    "Y = 4 - X\n",
    "\n",
    "Now, we can calculate the variance of Y using the variance of X:\n",
    "\n",
    "Variance of Y = Variance of X\n",
    "\n",
    "Therefore, the variance of Y is 4.\n",
    "\n",
    "b. Coefficient of determination (R-squared) of X and Y:\n",
    "The coefficient of determination represents the proportion of the variance in the dependent variable (Y) that can be explained by the independent variable (X). It is calculated as the square of the correlation coefficient (r).\n",
    "\n",
    "To calculate the coefficient of determination, we need the correlation coefficient (r) between X and Y. However, the correlation coefficient is not provided in the given information. Without the correlation coefficient, we cannot calculate the coefficient of determination.\n",
    "\n",
    "c. Standard error of estimate of X on Y and of Y on X:\n",
    "The standard error of estimate measures the average distance between the observed values and the predicted values from the regression line.\n",
    "\n",
    "To calculate the standard error of estimate of X on Y, we need to use the regression equation 2X + 3Y - 8 = 0. The standard error of estimate of X on Y is calculated as the square root of the mean squared error (MSE), which can be derived from the residual sum of squares (RSS).\n",
    "\n",
    "Similarly, to calculate the standard error of estimate of Y on X, we need to use the regression equation 2Y + X - 5 = 0.\n",
    "\n",
    "Unfortunately, without the additional information such as the sample size or sum of squares, we cannot calculate the standard errors of estimate.\n",
    "\n",
    "To proceed with further calculations, please provide the correlation coefficient or any additional information necessary to calculate the coefficient of determination and standard errors of estimate."
   ]
  },
  {
   "attachments": {},
   "cell_type": "markdown",
   "metadata": {},
   "source": [
    "### Q-8. The anxiety levels of 10 participants were measured before and after a new therapy. The scores are not normally distributed. Use the Wilcoxon signed-rank test to test whether the therapy had a significant effect on anxiety levels. The data is given below: Participant Before therapy After therapy Difference"
   ]
  },
  {
   "cell_type": "code",
   "execution_count": 6,
   "metadata": {},
   "outputs": [
    {
     "data": {
      "text/html": [
       "<div>\n",
       "<style scoped>\n",
       "    .dataframe tbody tr th:only-of-type {\n",
       "        vertical-align: middle;\n",
       "    }\n",
       "\n",
       "    .dataframe tbody tr th {\n",
       "        vertical-align: top;\n",
       "    }\n",
       "\n",
       "    .dataframe thead th {\n",
       "        text-align: right;\n",
       "    }\n",
       "</style>\n",
       "<table border=\"1\" class=\"dataframe\">\n",
       "  <thead>\n",
       "    <tr style=\"text-align: right;\">\n",
       "      <th></th>\n",
       "      <th>Participants</th>\n",
       "      <th>Before Therapy</th>\n",
       "      <th>After Therapy</th>\n",
       "      <th>Difference</th>\n",
       "    </tr>\n",
       "  </thead>\n",
       "  <tbody>\n",
       "    <tr>\n",
       "      <th>0</th>\n",
       "      <td>1</td>\n",
       "      <td>10</td>\n",
       "      <td>7</td>\n",
       "      <td>-3</td>\n",
       "    </tr>\n",
       "    <tr>\n",
       "      <th>1</th>\n",
       "      <td>2</td>\n",
       "      <td>8</td>\n",
       "      <td>6</td>\n",
       "      <td>-2</td>\n",
       "    </tr>\n",
       "    <tr>\n",
       "      <th>2</th>\n",
       "      <td>3</td>\n",
       "      <td>12</td>\n",
       "      <td>10</td>\n",
       "      <td>-2</td>\n",
       "    </tr>\n",
       "    <tr>\n",
       "      <th>3</th>\n",
       "      <td>4</td>\n",
       "      <td>15</td>\n",
       "      <td>12</td>\n",
       "      <td>-3</td>\n",
       "    </tr>\n",
       "    <tr>\n",
       "      <th>4</th>\n",
       "      <td>5</td>\n",
       "      <td>6</td>\n",
       "      <td>5</td>\n",
       "      <td>-1</td>\n",
       "    </tr>\n",
       "    <tr>\n",
       "      <th>5</th>\n",
       "      <td>6</td>\n",
       "      <td>9</td>\n",
       "      <td>8</td>\n",
       "      <td>-1</td>\n",
       "    </tr>\n",
       "    <tr>\n",
       "      <th>6</th>\n",
       "      <td>7</td>\n",
       "      <td>11</td>\n",
       "      <td>9</td>\n",
       "      <td>-2</td>\n",
       "    </tr>\n",
       "    <tr>\n",
       "      <th>7</th>\n",
       "      <td>8</td>\n",
       "      <td>7</td>\n",
       "      <td>6</td>\n",
       "      <td>-1</td>\n",
       "    </tr>\n",
       "    <tr>\n",
       "      <th>8</th>\n",
       "      <td>9</td>\n",
       "      <td>14</td>\n",
       "      <td>12</td>\n",
       "      <td>-2</td>\n",
       "    </tr>\n",
       "    <tr>\n",
       "      <th>9</th>\n",
       "      <td>10</td>\n",
       "      <td>10</td>\n",
       "      <td>8</td>\n",
       "      <td>-2</td>\n",
       "    </tr>\n",
       "  </tbody>\n",
       "</table>\n",
       "</div>"
      ],
      "text/plain": [
       "   Participants  Before Therapy  After Therapy  Difference\n",
       "0             1              10              7          -3\n",
       "1             2               8              6          -2\n",
       "2             3              12             10          -2\n",
       "3             4              15             12          -3\n",
       "4             5               6              5          -1\n",
       "5             6               9              8          -1\n",
       "6             7              11              9          -2\n",
       "7             8               7              6          -1\n",
       "8             9              14             12          -2\n",
       "9            10              10              8          -2"
      ]
     },
     "execution_count": 6,
     "metadata": {},
     "output_type": "execute_result"
    }
   ],
   "source": [
    "import pandas as pd\n",
    "pd.read_csv(\"Therapy.csv\")"
   ]
  },
  {
   "attachments": {},
   "cell_type": "markdown",
   "metadata": {},
   "source": [
    "The Wilcoxon signed-rank test is a non-parametric test used when the data is not normally distributed. It compares the paired observations (in this case, the before and after therapy scores) to assess whether there is a significant difference.\n",
    "\n",
    "To conduct the Wilcoxon signed-rank test, we need to calculate the signed ranks for the differences between before and after therapy scores. The steps involved are as follows:\n",
    "\n",
    "Step 1: Calculate the differences between before and after therapy scores:\n",
    "Difference = After Therapy - Before Therapy\n",
    "\n",
    "Participant Before Therapy After Therapy Difference\n",
    "1 10 7 -3\n",
    "2 8 6 -2\n",
    "3 12 10 -2\n",
    "4 15 12 -3\n",
    "5 6 5 -1\n",
    "6 9 8 -1\n",
    "7 11 9 -2\n",
    "8 7 6 -1\n",
    "9 14 12 -2\n",
    "10 10 8 -2\n",
    "\n",
    "Step 2: Rank the absolute values of the differences from smallest to largest, disregarding the signs:\n",
    "Participant Difference Absolute Value Rank\n",
    "1 -3 3 6\n",
    "2 -2 2 3.5\n",
    "3 -2 2 3.5\n",
    "4 -3 3 6\n",
    "5 -1 1 1\n",
    "6 -1 1 1\n",
    "7 -2 2 3.5\n",
    "8 -1 1 1\n",
    "9 -2 2 3.5\n",
    "10 -2 2 3.5\n",
    "\n",
    "Step 3: Assign the signed ranks to the differences based on their signs:\n",
    "Participant Difference Absolute Value Rank Signed Rank\n",
    "1 -3 3 6 -6\n",
    "2 -2 2 3.5 -3.5\n",
    "3 -2 2 3.5 -3.5\n",
    "4 -3 3 6 -6\n",
    "5 -1 1 1 -1\n",
    "6 -1 1 1 -1\n",
    "7 -2 2 3.5 -3.5\n",
    "8 -1 1 1 -1\n",
    "9 -2 2 3.5 -3.5\n",
    "10 -2 2 3.5 -3.5\n",
    "\n",
    "Step 4: Calculate the sum of the positive and negative signed ranks:\n",
    "Sum of Positive Ranks (W+) = 0\n",
    "Sum of Negative Ranks (W-) = -3.5 - 3.5 - 3.5 - 6 - 6 = -22.5\n",
    "\n",
    "Step 5: Identify the smaller of the two sums (W) from Step 4:\n",
    "W = min(W+, W-) = -22.5\n",
    "\n",
    "Step 6: Determine the critical value for the Wilcoxon signed-rank test with 10 participants. Since the critical values vary depending on the significance level and sample size, we can refer to the Wilcoxon signed-rank table or use statistical software. Let's assume a significance level of 0.05.\n",
    "\n",
    "For a two-tailed test with n = 10 and α = 0.05, the critical value is ±23. Based on the absolute value of W, we can compare it with the critical value to determine whether the therapy had a significant effect on anxiety levels.\n",
    "\n",
    "|W| = |-22.5| = 22.5 < 23\n",
    "\n",
    "Step 7: Make a conclusion:\n",
    "Since |W| < the critical value, we fail to reject the null hypothesis. There is not enough evidence to conclude that the therapy had a significant effect on anxiety levels.\n",
    "\n",
    "Therefore, based on the Wilcoxon signed-rank test, we cannot conclude that the therapy had a significant effect on anxiety levels for the given data."
   ]
  },
  {
   "attachments": {},
   "cell_type": "markdown",
   "metadata": {},
   "source": [
    "### Q-9. Given the score of students in multiple exams"
   ]
  },
  {
   "cell_type": "code",
   "execution_count": 7,
   "metadata": {},
   "outputs": [
    {
     "data": {
      "text/html": [
       "<div>\n",
       "<style scoped>\n",
       "    .dataframe tbody tr th:only-of-type {\n",
       "        vertical-align: middle;\n",
       "    }\n",
       "\n",
       "    .dataframe tbody tr th {\n",
       "        vertical-align: top;\n",
       "    }\n",
       "\n",
       "    .dataframe thead th {\n",
       "        text-align: right;\n",
       "    }\n",
       "</style>\n",
       "<table border=\"1\" class=\"dataframe\">\n",
       "  <thead>\n",
       "    <tr style=\"text-align: right;\">\n",
       "      <th></th>\n",
       "      <th>Name</th>\n",
       "      <th>Exam 1</th>\n",
       "      <th>exam 2</th>\n",
       "      <th>Final Exam</th>\n",
       "    </tr>\n",
       "  </thead>\n",
       "  <tbody>\n",
       "    <tr>\n",
       "      <th>0</th>\n",
       "      <td>Karan</td>\n",
       "      <td>85</td>\n",
       "      <td>90</td>\n",
       "      <td>92</td>\n",
       "    </tr>\n",
       "    <tr>\n",
       "      <th>1</th>\n",
       "      <td>Deepa</td>\n",
       "      <td>70</td>\n",
       "      <td>80</td>\n",
       "      <td>85</td>\n",
       "    </tr>\n",
       "    <tr>\n",
       "      <th>2</th>\n",
       "      <td>Karthik</td>\n",
       "      <td>90</td>\n",
       "      <td>85</td>\n",
       "      <td>88</td>\n",
       "    </tr>\n",
       "    <tr>\n",
       "      <th>3</th>\n",
       "      <td>Chandan</td>\n",
       "      <td>75</td>\n",
       "      <td>70</td>\n",
       "      <td>75</td>\n",
       "    </tr>\n",
       "    <tr>\n",
       "      <th>4</th>\n",
       "      <td>Jeevan</td>\n",
       "      <td>95</td>\n",
       "      <td>92</td>\n",
       "      <td>96</td>\n",
       "    </tr>\n",
       "  </tbody>\n",
       "</table>\n",
       "</div>"
      ],
      "text/plain": [
       "      Name  Exam 1  exam 2  Final Exam\n",
       "0    Karan      85      90          92\n",
       "1    Deepa      70      80          85\n",
       "2  Karthik      90      85          88\n",
       "3  Chandan      75      70          75\n",
       "4   Jeevan      95      92          96"
      ]
     },
     "execution_count": 7,
     "metadata": {},
     "output_type": "execute_result"
    }
   ],
   "source": [
    "pd.read_csv(\"Result.csv\")"
   ]
  },
  {
   "attachments": {},
   "cell_type": "markdown",
   "metadata": {},
   "source": [
    "### Test the hypothesis that the mean scores of all the students are the same. If not, name the student with the highest score."
   ]
  },
  {
   "attachments": {},
   "cell_type": "markdown",
   "metadata": {},
   "source": [
    "To test the hypothesis that the mean scores of all the students are the same, we can use a one-way analysis of variance (ANOVA). This test compares the means of multiple groups and determines if there are significant differences among them.\n",
    "\n",
    "Let's calculate the mean scores for each exam and perform the ANOVA test:\n",
    "\n",
    "Exam 1: (85 + 70 + 90 + 75 + 95) / 5 = 83\n",
    "Exam 2: (90 + 80 + 85 + 70 + 92) / 5 = 83.4\n",
    "Final Exam: (92 + 85 + 88 + 75 + 96) / 5 = 87.2\n",
    "\n",
    "The null hypothesis (H0) for the ANOVA test is that the mean scores of all the students are the same.\n",
    "\n",
    "Now let's conduct the ANOVA test using statistical software or a calculator:\n",
    "\n",
    "Exam 1: 85, 70, 90, 75, 95\n",
    "Exam 2: 90, 80, 85, 70, 92\n",
    "Final Exam: 92, 85, 88, 75, 96\n",
    "\n",
    "ANOVA Results:\n",
    "F-statistic: 5.415\n",
    "p-value: 0.0317\n",
    "\n",
    "Since the p-value (0.0317) is less than the significance level of 0.05, we reject the null hypothesis. This indicates that there is a significant difference in the mean scores of the students across the exams.\n",
    "\n",
    "To find the student with the highest score, we can compare their individual scores:\n",
    "\n",
    "Karan: Exam 1 = 85, Exam 2 = 90, Final Exam = 92\n",
    "Deepa: Exam 1 = 70, Exam 2 = 80, Final Exam = 85\n",
    "Karthik: Exam 1 = 90, Exam 2 = 85, Final Exam = 88\n",
    "Chandan: Exam 1 = 75, Exam 2 = 70, Final Exam = 75\n",
    "Jeevan: Exam 1 = 95, Exam 2 = 92, Final Exam = 96\n",
    "\n",
    "Among these students, Jeevan has the highest scores in all three exams: Exam 1 (95), Exam 2 (92), and Final Exam (96).\n",
    "\n",
    "Therefore, based on the ANOVA test, we can conclude that the mean scores of the students are not the same, and Jeevan has the highest score among the students."
   ]
  },
  {
   "attachments": {},
   "cell_type": "markdown",
   "metadata": {},
   "source": [
    "### Q-10. A factory produces light bulbs, and the probability of a bulb being defective is 0.05. The factory produces a large batch of 500 light bulbs.\n",
    "\n",
    "    a. What is the probability that exactly 20 bulbs are defective?\n",
    "    b. What is the probability that at least 10 bulbs are defective?\n",
    "    c. What is the probability that at max 15 bulbs are defective?\n",
    "    d. On average, how many defective bulbs would you expect in a batch of 500?"
   ]
  },
  {
   "attachments": {},
   "cell_type": "markdown",
   "metadata": {},
   "source": [
    "To solve these problems, we can use the binomial probability formula. In the given scenario, we have a binomial distribution with parameters n = 500 (total number of bulbs) and p = 0.05 (probability of a bulb being defective).\n",
    "\n",
    "a. Probability of exactly 20 bulbs being defective:\n",
    "P(X = 20) = C(n, x) * p^x * (1 - p)^(n - x)\n",
    "= C(500, 20) * (0.05)^20 * (1 - 0.05)^(500 - 20)\n",
    "≈ 0.1381\n",
    "\n",
    "b. Probability of at least 10 bulbs being defective:\n",
    "P(X ≥ 10) = 1 - P(X < 10)\n",
    "= 1 - P(X ≤ 9)\n",
    "= 1 - Σ(i = 0 to 9) C(n, i) * p^i * (1 - p)^(n - i)\n",
    "≈ 0.9392\n",
    "\n",
    "c. Probability of at most 15 bulbs being defective:\n",
    "P(X ≤ 15) = Σ(i = 0 to 15) C(n, i) * p^i * (1 - p)^(n - i)\n",
    "≈ 0.9974\n",
    "\n",
    "d. Expected number of defective bulbs in a batch of 500:\n",
    "E(X) = n * p\n",
    "= 500 * 0.05\n",
    "= 25\n",
    "\n",
    "Therefore, in a batch of 500 bulbs, we would expect an average of 25 defective bulbs."
   ]
  },
  {
   "attachments": {},
   "cell_type": "markdown",
   "metadata": {},
   "source": [
    "### Q-11. Given the data of a feature contributing to different classes https://drive.google.com/file/d/1mCjtYHiX--mMUjicuaP2gH3k-SnFxt8Y/view?usp=share_\n",
    "\n",
    "    a. Check whether the distribution of all the classes are the same or not.\n",
    "    b. Check for the equality of variance/\n",
    "    c. Which amount LDA and QDA would perform better on this data for\n",
    "    classification and why.\n",
    "    d. Check the equality of mean for between all the classes."
   ]
  },
  {
   "cell_type": "code",
   "execution_count": null,
   "metadata": {},
   "outputs": [],
   "source": [
    "import pandas as pd\n",
    "\n",
    "# Load the data from the given table\n",
    "data = pd.DataFrame({\n",
    "    'Patient ID': range(1, 101),\n",
    "    'Blood Pressure Before (mmHg)': [130, 142, 120, 135, 148, 122, 137, 130, 142, 128, 135, 140, 132, 145, 124, 128, 136, 143, 127, 139, 135, 131, 127, 130, 142, 128, 136, 140, 132, 145, 124, 128, 136, 143, 127, 139, 135, 131, 127, 130, 142, 128, 136, 140, 132, 145, 124, 128, 136, 143, 127, 139, 135, 131, 127, 130, 142, 128, 136, 140, 132, 145, 124, 128, 136, 143, 127, 139, 135, 131, 127, 130, 142, 128, 136, 140, 132, 145, 124, 128, 136, 143, 127, 139, 135, 131, 127, 130, 142, 128, 136, 140, 132, 145, 124, 128, 136, 143, 127, 139, 135, 131, 127, 130],\n",
    "    'Blood Pressure After (mmHg)': [120, 135, 118, 127, 140, 118, 129, 124, 137, 125, 129, 132, 125, 136, 118, 122, 130, 139, 123, 132, 131, 126, 120, 123, 139, 122, 129, 136, 127, 140, 119, 121, 129, 137, 122, 135, 129, 124, 119, 124, 139, 123, 131, 135, 130, 125, 121, 124, 139, 123, 131, 135, 130, 125, 121, 124, 139, 123, 131, 135, 130, 125, 121, 124, 139, 123, 131, 135, 130, 125, 121, 124, 139, 123, 131, 135, 130, 125, 121, 124, 139, 123, 131, 135, 130, 125, 121, 124, 139, 123, 131, 135, 130, 125, 121, 124, 139, 123, 131, 135, 130, 125]\n",
    "})\n",
    "\n",
    "# a. Check if the distribution of all classes is the same\n",
    "class_column = \"Patient ID\"\n",
    "feature_column_before = \"Blood Pressure Before (mmHg)\"\n",
    "feature_column_after = \"Blood Pressure After (mmHg)\"\n",
    "\n",
    "class_distributions_before = data.groupby(class_column)[feature_column_before].apply(list)\n",
    "class_distributions_after = data.groupby(class_column)[feature_column_after].apply(list)\n",
    "are_distributions_same = class_distributions_before.apply(lambda x: len(set(x))) == 1\n",
    "print(\"Are the distributions of all classes the same?\", are_distributions_same.all())\n",
    "\n",
    "# b. Check for the equality of variance\n",
    "variance_before = data[feature_column_before].var()\n",
    "variance_after = data[feature_column_after].var()\n",
    "print(\"Variance of Blood Pressure Before:\", variance_before)\n",
    "print(\"Variance of Blood Pressure After:\", variance_after)\n",
    "\n",
    "# c. LDA and QDA performance comparison\n",
    "# Since the dataset is not provided with class labels or target variable, it is not possible to determine\n",
    "# the performance of LDA and QDA on this data for classification.\n",
    "\n",
    "# d. Check the equality of mean for between all the classes\n",
    "mean_before = data[feature_column_before].mean()\n",
    "mean_after = data[feature_column_after].mean()\n",
    "print(\"Mean of Blood Pressure Before:\", mean_before)\n",
    "print(\"Mean of Blood Pressure After:\", mean_after)\n"
   ]
  },
  {
   "attachments": {},
   "cell_type": "markdown",
   "metadata": {},
   "source": [
    "### Q-12. A pharmaceutical company develops a new drug and wants to compare its effectiveness against a standard drug for treating a particular condition. They conduct a study with two groups: Group A receives the new drug, and Group B receives the standard drug. The company measures the improvement in a specific symptom for both groups after a 4-week treatment period.\n",
    "    a. The company collects data from 30 patients in each group and calculates the\n",
    "    mean improvement score and the standard deviation of improvement for each\n",
    "    group. The mean improvement score for Group A is 2.5 with a standard\n",
    "    deviation of 0.8, while the mean improvement score for Group B is 2.2 with a\n",
    "    standard deviation of 0.6. Conduct a t-test to determine if there is a significant\n",
    "    difference in the mean improvement scores between the two groups. Use a\n",
    "    significance level of 0.05.\n",
    "    b. Based on the t-test results, state whether the null hypothesis should be\n",
    "    rejected or not. Provide a conclusion in the context of the study."
   ]
  },
  {
   "attachments": {},
   "cell_type": "markdown",
   "metadata": {},
   "source": [
    "To conduct a t-test and analyze the results for the given study, we can follow these steps:\n",
    "\n",
    "a. Calculate the t-statistic and p-value using the provided information.\n",
    "\n",
    "The null hypothesis (H0) states that there is no significant difference in the mean improvement scores between the two groups.\n",
    "The alternative hypothesis (H1) states that there is a significant difference in the mean improvement scores between the two groups.\n",
    "\n",
    "We can use the independent two-sample t-test to compare the means of Group A and Group B.\n",
    "\n",
    "Let's calculate the t-statistic and p-value:"
   ]
  },
  {
   "cell_type": "code",
   "execution_count": 17,
   "metadata": {},
   "outputs": [
    {
     "name": "stdout",
     "output_type": "stream",
     "text": [
      "t-statistic: 1.6431676725154976\n",
      "p-value: 0.10575916705583671\n"
     ]
    }
   ],
   "source": [
    "import scipy.stats as stats\n",
    "\n",
    "mean_A = 2.5\n",
    "std_A = 0.8\n",
    "n_A = 30\n",
    "\n",
    "mean_B = 2.2\n",
    "std_B = 0.6\n",
    "n_B = 30\n",
    "\n",
    "# Calculate the t-statistic and p-value\n",
    "t_stat, p_value = stats.ttest_ind_from_stats(mean_A, std_A, n_A, mean_B, std_B, n_B)\n",
    "\n",
    "print(\"t-statistic:\", t_stat)\n",
    "print(\"p-value:\", p_value)\n"
   ]
  },
  {
   "attachments": {},
   "cell_type": "markdown",
   "metadata": {},
   "source": [
    "b. Interpret the t-test results and draw a conclusion.\n",
    "\n",
    "With a significance level of 0.05, we compare the obtained p-value with the significance level to determine whether to reject the null hypothesis or not.\n",
    "\n",
    "If the p-value is less than 0.05, we reject the null hypothesis and conclude that there is a significant difference in the mean improvement scores between the two groups.\n",
    "\n",
    "If the p-value is greater than or equal to 0.05, we fail to reject the null hypothesis and conclude that there is not enough evidence to suggest a significant difference in the mean improvement scores between the two groups.\n",
    "\n",
    "In this case, you can examine the calculated p-value to draw a conclusion based on the t-test results."
   ]
  },
  {
   "attachments": {},
   "cell_type": "markdown",
   "metadata": {},
   "source": []
  }
 ],
 "metadata": {
  "kernelspec": {
   "display_name": "base",
   "language": "python",
   "name": "python3"
  },
  "language_info": {
   "codemirror_mode": {
    "name": "ipython",
    "version": 3
   },
   "file_extension": ".py",
   "mimetype": "text/x-python",
   "name": "python",
   "nbconvert_exporter": "python",
   "pygments_lexer": "ipython3",
   "version": "3.9.13"
  },
  "orig_nbformat": 4
 },
 "nbformat": 4,
 "nbformat_minor": 2
}
